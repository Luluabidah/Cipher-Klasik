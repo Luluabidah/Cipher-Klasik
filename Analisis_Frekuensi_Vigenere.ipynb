{
  "nbformat": 4,
  "nbformat_minor": 0,
  "metadata": {
    "colab": {
      "provenance": [],
      "authorship_tag": "ABX9TyMIAlnLxvZo+HB0YPA8yLd0",
      "include_colab_link": true
    },
    "kernelspec": {
      "name": "python3",
      "display_name": "Python 3"
    },
    "language_info": {
      "name": "python"
    }
  },
  "cells": [
    {
      "cell_type": "markdown",
      "metadata": {
        "id": "view-in-github",
        "colab_type": "text"
      },
      "source": [
        "<a href=\"https://colab.research.google.com/github/Luluabidah/Cipher-Klasik/blob/main/Analisis_Frekuensi_Vigenere.ipynb\" target=\"_parent\"><img src=\"https://colab.research.google.com/assets/colab-badge.svg\" alt=\"Open In Colab\"/></a>"
      ]
    },
    {
      "cell_type": "code",
      "execution_count": 1,
      "metadata": {
        "colab": {
          "base_uri": "https://localhost:8080/"
        },
        "id": "jy8o6g-QiQgg",
        "outputId": "c707679d-213e-44ef-f93d-c2745d4d3fd3"
      },
      "outputs": [
        {
          "output_type": "stream",
          "name": "stdout",
          "text": [
            "Plaintext : KRIPTOGRAFI ADALAH ILMU KEAMANAN INFORMASI\n",
            "Kunci     : RAHASIA\n",
            "Ciphertext: BRPPLWGIAMISLACAOIDUUBEHMSVAEIUFGZMRSP\n",
            "Dekripsi  : KRIPTOGRAFIADALAHILMUKEAMANANINFORMASI\n",
            "\n",
            "Analisis Frekuensi:\n",
            "A: 4 (10.53%)\n",
            "B: 2 (5.26%)\n",
            "C: 1 (2.63%)\n",
            "D: 1 (2.63%)\n",
            "E: 2 (5.26%)\n",
            "F: 1 (2.63%)\n",
            "G: 2 (5.26%)\n",
            "H: 1 (2.63%)\n",
            "I: 4 (10.53%)\n",
            "L: 2 (5.26%)\n",
            "M: 3 (7.89%)\n",
            "O: 1 (2.63%)\n",
            "P: 3 (7.89%)\n",
            "R: 2 (5.26%)\n",
            "S: 3 (7.89%)\n",
            "U: 3 (7.89%)\n",
            "V: 1 (2.63%)\n",
            "W: 1 (2.63%)\n",
            "Z: 1 (2.63%)\n"
          ]
        }
      ],
      "source": [
        "# Vigenere Cipher Implementation\n",
        "from collections import Counter\n",
        "\n",
        "# Fungsi enkripsi\n",
        "def vigenere_encrypt(plaintext, key):\n",
        "    plaintext = plaintext.upper().replace(\" \", \"\")\n",
        "    key = key.upper()\n",
        "    ciphertext = \"\"\n",
        "    for i in range(len(plaintext)):\n",
        "        letter = plaintext[i]\n",
        "        shift = ord(key[i % len(key)]) - 65\n",
        "        encrypted_char = chr((ord(letter) - 65 + shift) % 26 + 65)\n",
        "        ciphertext += encrypted_char\n",
        "    return ciphertext\n",
        "\n",
        "# Fungsi dekripsi\n",
        "def vigenere_decrypt(ciphertext, key):\n",
        "    ciphertext = ciphertext.upper().replace(\" \", \"\")\n",
        "    key = key.upper()\n",
        "    plaintext = \"\"\n",
        "    for i in range(len(ciphertext)):\n",
        "        letter = ciphertext[i]\n",
        "        shift = ord(key[i % len(key)]) - 65\n",
        "        decrypted_char = chr((ord(letter) - 65 - shift) % 26 + 65)\n",
        "        plaintext += decrypted_char\n",
        "    return plaintext\n",
        "\n",
        "# Analisis frekuensi\n",
        "def frequency_analysis(text):\n",
        "    text = text.upper().replace(\" \", \"\")\n",
        "    freq = Counter(text)\n",
        "    total = sum(freq.values())\n",
        "    print(\"Analisis Frekuensi:\")\n",
        "    for char, count in sorted(freq.items()):\n",
        "        print(f\"{char}: {count} ({count/total:.2%})\")\n",
        "\n",
        "# Contoh penggunaan\n",
        "plaintext = \"KRIPTOGRAFI ADALAH ILMU KEAMANAN INFORMASI\"\n",
        "key = \"RAHASIA\"\n",
        "\n",
        "ciphertext = vigenere_encrypt(plaintext, key)\n",
        "decrypted = vigenere_decrypt(ciphertext, key)\n",
        "\n",
        "print(\"Plaintext :\", plaintext)\n",
        "print(\"Kunci     :\", key)\n",
        "print(\"Ciphertext:\", ciphertext)\n",
        "print(\"Dekripsi  :\", decrypted)\n",
        "print()\n",
        "frequency_analysis(ciphertext)"
      ]
    }
  ]
}