{
  "nbformat": 4,
  "nbformat_minor": 0,
  "metadata": {
    "colab": {
      "provenance": [],
      "authorship_tag": "ABX9TyNKS+8g4dCe8w6gpgQVCKGF",
      "include_colab_link": true
    },
    "kernelspec": {
      "name": "python3",
      "display_name": "Python 3"
    },
    "language_info": {
      "name": "python"
    }
  },
  "cells": [
    {
      "cell_type": "markdown",
      "metadata": {
        "id": "view-in-github",
        "colab_type": "text"
      },
      "source": [
        "<a href=\"https://colab.research.google.com/github/Luluabidah/Cipher-Klasik/blob/main/Playfair_Cipher.ipynb\" target=\"_parent\"><img src=\"https://colab.research.google.com/assets/colab-badge.svg\" alt=\"Open In Colab\"/></a>"
      ]
    },
    {
      "cell_type": "code",
      "execution_count": 1,
      "metadata": {
        "colab": {
          "base_uri": "https://localhost:8080/"
        },
        "id": "MBHGFhpSnsl_",
        "outputId": "9d74ecb3-7c84-4055-8155-8ae8e56e0f99"
      },
      "outputs": [
        {
          "output_type": "stream",
          "name": "stdout",
          "text": [
            "Key: READY\n",
            "Plaintext: HELLOWORLD\n",
            "Ciphertext: CYMWIQUQAIGD\n"
          ]
        }
      ],
      "source": [
        "def generate_table(key):\n",
        "    alphabet = 'ABCDEFGHIKLMNOPQRSTUVWXYZ'  # J dihapus\n",
        "    table = \"\"\n",
        "    for c in key.upper() + alphabet:\n",
        "        if c not in table:\n",
        "            table += c\n",
        "    return [table[i:i+5] for i in range(0, 25, 5)]\n",
        "\n",
        "def find_position(table, letter):\n",
        "    for i, row in enumerate(table):\n",
        "        if letter in row:\n",
        "            return i, row.index(letter)\n",
        "    return None\n",
        "\n",
        "def playfair_encrypt(plaintext, key):\n",
        "    # Buat tabel\n",
        "    table = generate_table(key)\n",
        "\n",
        "    # Bersihkan plaintext\n",
        "    text = plaintext.upper().replace(\"J\", \"I\")\n",
        "    # Pisahkan menjadi pasangan huruf (digraphs)\n",
        "    pairs = []\n",
        "    i = 0\n",
        "    while i < len(text):\n",
        "        a = text[i]\n",
        "        b = text[i+1] if i+1 < len(text) else 'X'\n",
        "        if a == b:\n",
        "            pairs.append(a + 'X')\n",
        "            i += 1\n",
        "        else:\n",
        "            pairs.append(a + b)\n",
        "            i += 2\n",
        "\n",
        "    # Enkripsi tiap pasangan\n",
        "    ciphertext = \"\"\n",
        "    for pair in pairs:\n",
        "        r1, c1 = find_position(table, pair[0])\n",
        "        r2, c2 = find_position(table, pair[1])\n",
        "\n",
        "        if r1 == r2:  # huruf di baris sama\n",
        "            ciphertext += table[r1][(c1 + 1) % 5]\n",
        "            ciphertext += table[r2][(c2 + 1) % 5]\n",
        "        elif c1 == c2:  # huruf di kolom sama\n",
        "            ciphertext += table[(r1 + 1) % 5][c1]\n",
        "            ciphertext += table[(r2 + 1) % 5][c2]\n",
        "        else:  # bentuk persegi panjang\n",
        "            ciphertext += table[r1][c2]\n",
        "            ciphertext += table[r2][c1]\n",
        "\n",
        "    return ciphertext\n",
        "\n",
        "# --- Jalankan ---\n",
        "key = 'READY'\n",
        "plaintext = 'HELLOWORLD'\n",
        "ciphertext = playfair_encrypt(plaintext, key)\n",
        "\n",
        "print(\"Key:\", key)\n",
        "print(\"Plaintext:\", plaintext)\n",
        "print(\"Ciphertext:\", ciphertext)\n"
      ]
    }
  ]
}