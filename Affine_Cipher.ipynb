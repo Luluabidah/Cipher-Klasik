{
  "nbformat": 4,
  "nbformat_minor": 0,
  "metadata": {
    "colab": {
      "provenance": [],
      "authorship_tag": "ABX9TyNMiGNhXbPksP9PDSJt9JGJ",
      "include_colab_link": true
    },
    "kernelspec": {
      "name": "python3",
      "display_name": "Python 3"
    },
    "language_info": {
      "name": "python"
    }
  },
  "cells": [
    {
      "cell_type": "markdown",
      "metadata": {
        "id": "view-in-github",
        "colab_type": "text"
      },
      "source": [
        "<a href=\"https://colab.research.google.com/github/Luluabidah/Cipher-Klasik/blob/main/Affine_Cipher.ipynb\" target=\"_parent\"><img src=\"https://colab.research.google.com/assets/colab-badge.svg\" alt=\"Open In Colab\"/></a>"
      ]
    },
    {
      "cell_type": "code",
      "execution_count": 1,
      "metadata": {
        "colab": {
          "base_uri": "https://localhost:8080/"
        },
        "id": "BpKDGHP-mqCg",
        "outputId": "d3b8729e-fe15-48c0-b4a6-ae4f840168dd"
      },
      "outputs": [
        {
          "output_type": "stream",
          "name": "stdout",
          "text": [
            "RCLLA\n"
          ]
        }
      ],
      "source": [
        "def affine_encrypt(text, a, b):\n",
        "    result = \"\"\n",
        "    for char in text.upper():\n",
        "        if char.isalpha():\n",
        "            result += chr(((a* (ord(char)-65) + b) % 26) + 65)\n",
        "        else:\n",
        "            result += char\n",
        "    return result\n",
        "\n",
        "print(affine_encrypt('HELLO', 5, 8))"
      ]
    }
  ]
}