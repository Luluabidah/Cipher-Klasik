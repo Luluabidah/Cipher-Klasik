{
  "nbformat": 4,
  "nbformat_minor": 0,
  "metadata": {
    "colab": {
      "provenance": [],
      "authorship_tag": "ABX9TyPMxFgOY40gsWU6Pr1eH05h",
      "include_colab_link": true
    },
    "kernelspec": {
      "name": "python3",
      "display_name": "Python 3"
    },
    "language_info": {
      "name": "python"
    }
  },
  "cells": [
    {
      "cell_type": "markdown",
      "metadata": {
        "id": "view-in-github",
        "colab_type": "text"
      },
      "source": [
        "<a href=\"https://colab.research.google.com/github/Luluabidah/Cipher-Klasik/blob/main/Vigenere_Cipher.ipynb\" target=\"_parent\"><img src=\"https://colab.research.google.com/assets/colab-badge.svg\" alt=\"Open In Colab\"/></a>"
      ]
    },
    {
      "cell_type": "code",
      "execution_count": 1,
      "metadata": {
        "colab": {
          "base_uri": "https://localhost:8080/"
        },
        "id": "hxBPrH8PktpI",
        "outputId": "5f812975-e9b8-44d1-a24f-d823516b208d"
      },
      "outputs": [
        {
          "output_type": "stream",
          "name": "stdout",
          "text": [
            "YILOMNSROB\n"
          ]
        }
      ],
      "source": [
        "def vigenere_encrypt(plain, key):\n",
        "    key=key.upper()\n",
        "    result=\"\"\n",
        "    for i, char in enumerate(plain.upper()):\n",
        "        if char.isalpha():\n",
        "            shift = ord(key[i % len(key)])-65\n",
        "            result += chr((ord(char)-65+shift)%26+65)\n",
        "        else:\n",
        "            result += char\n",
        "    return result\n",
        "\n",
        "print(vigenere_encrypt('HELLOWORLD','READY'))"
      ]
    }
  ]
}