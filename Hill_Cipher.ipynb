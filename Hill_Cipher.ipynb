{
  "nbformat": 4,
  "nbformat_minor": 0,
  "metadata": {
    "colab": {
      "provenance": [],
      "authorship_tag": "ABX9TyN4BTQ3Zi7rexhqhpM9vOMA",
      "include_colab_link": true
    },
    "kernelspec": {
      "name": "python3",
      "display_name": "Python 3"
    },
    "language_info": {
      "name": "python"
    }
  },
  "cells": [
    {
      "cell_type": "markdown",
      "metadata": {
        "id": "view-in-github",
        "colab_type": "text"
      },
      "source": [
        "<a href=\"https://colab.research.google.com/github/Luluabidah/Cipher-Klasik/blob/main/Hill_Cipher.ipynb\" target=\"_parent\"><img src=\"https://colab.research.google.com/assets/colab-badge.svg\" alt=\"Open In Colab\"/></a>"
      ]
    },
    {
      "cell_type": "code",
      "execution_count": 1,
      "metadata": {
        "colab": {
          "base_uri": "https://localhost:8080/"
        },
        "id": "1RFDv86fo4J_",
        "outputId": "1f354ebd-b9e7-49fd-934a-603d4f46ac95"
      },
      "outputs": [
        {
          "output_type": "stream",
          "name": "stdout",
          "text": [
            "HIOZHN\n"
          ]
        }
      ],
      "source": [
        "import numpy as np\n",
        "\n",
        "def hill_encrypt(text, key):\n",
        "    text = text.upper().replace(\" \", \"\")\n",
        "    if len(text) % 2 != 0:      # Tambah X kalau ganjil\n",
        "        text += \"X\"\n",
        "    result = \"\"\n",
        "    for i in range(0, len(text), 2):\n",
        "        pair = np.array([ord(text[i]) - 65, ord(text[i+1]) - 65])\n",
        "        enc = np.dot(key, pair) % 26\n",
        "        result += chr(enc[0] + 65) + chr(enc[1] + 65)\n",
        "    return result\n",
        "\n",
        "\n",
        "key = np.array([[3, 3], [2, 5]])   # Matriks kunci\n",
        "print(hill_encrypt(\"HELLO\", key))"
      ]
    }
  ]
}